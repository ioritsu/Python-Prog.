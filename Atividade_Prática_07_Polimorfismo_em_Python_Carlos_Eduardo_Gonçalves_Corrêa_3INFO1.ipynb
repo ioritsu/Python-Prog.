{
  "nbformat": 4,
  "nbformat_minor": 0,
  "metadata": {
    "colab": {
      "name": "Atividade Prática 07 Polimorfismo em Python - Carlos Eduardo Gonçalves Corrêa - 3INFO1.ipynb",
      "provenance": [],
      "authorship_tag": "ABX9TyNuVu0/PtTCCikmOwRHsl58",
      "include_colab_link": true
    },
    "kernelspec": {
      "name": "python3",
      "display_name": "Python 3"
    },
    "language_info": {
      "name": "python"
    }
  },
  "cells": [
    {
      "cell_type": "markdown",
      "metadata": {
        "id": "view-in-github",
        "colab_type": "text"
      },
      "source": [
        "<a href=\"https://colab.research.google.com/github/ioritsu/Python-Prog./blob/main/Atividade_Pr%C3%A1tica_07_Polimorfismo_em_Python_Carlos_Eduardo_Gon%C3%A7alves_Corr%C3%AAa_3INFO1.ipynb\" target=\"_parent\"><img src=\"https://colab.research.google.com/assets/colab-badge.svg\" alt=\"Open In Colab\"/></a>"
      ]
    },
    {
      "cell_type": "code",
      "metadata": {
        "id": "e7jyC2q6AqWV"
      },
      "source": [
        "#1\n",
        "class Usuario():\n",
        "  pontos = 0\n",
        "  numeroDeArtigos = 0\n",
        "\n",
        "  def setNumeroDeArtigos(self, nart):\n",
        "    self.numeroDeArtigos = nart\n",
        "\n",
        "  def getNumeroDeArtigos(self):\n",
        "    return self.numeroDeArtigos\n",
        "#2\n",
        "  def calcPontuacao(self):\n",
        "    pass\n",
        "#3\n",
        "class Autor(Usuario):\n",
        "  \n",
        "  def calcPontuacao(self):\n",
        "    self.pontos = self.numeroDeArtigos * 10 + 20\n",
        "    return self.pontos\n",
        "#4\n",
        "class Editor(Usuario):\n",
        "\n",
        "  def calcPontuacao(self):\n",
        "    self.pontos = self.numeroDeArtigos * 6 + 15\n",
        "    return self.pontos\n",
        "#5\n",
        "autor1 = Autor()\n",
        "autor1.setNumeroDeArtigos(8)\n",
        "\n",
        "print(autor1.calcPontuacao())\n",
        "#6\n",
        "editor1 = Editor()\n",
        "editor1.setNumeroDeArtigos(15)\n",
        "\n",
        "print(editor1.calcPontuacao())"
      ],
      "execution_count": null,
      "outputs": []
    }
  ]
}