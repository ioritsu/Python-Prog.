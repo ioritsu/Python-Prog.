{
  "nbformat": 4,
  "nbformat_minor": 0,
  "metadata": {
    "colab": {
      "name": "Orientação a objetos Python - Carlos Eduardo G. Corrêa - 3INFO1.ipynb",
      "provenance": [],
      "authorship_tag": "ABX9TyOtWssc0mQfvCiFZmyVmAEn",
      "include_colab_link": true
    },
    "kernelspec": {
      "name": "python3",
      "display_name": "Python 3"
    },
    "language_info": {
      "name": "python"
    }
  },
  "cells": [
    {
      "cell_type": "markdown",
      "metadata": {
        "id": "view-in-github",
        "colab_type": "text"
      },
      "source": [
        "<a href=\"https://colab.research.google.com/github/ioritsu/Python-Prog./blob/main/Orienta%C3%A7%C3%A3o_a_objetos_Python_Carlos_Eduardo_G_Corr%C3%AAa_3INFO1.ipynb\" target=\"_parent\"><img src=\"https://colab.research.google.com/assets/colab-badge.svg\" alt=\"Open In Colab\"/></a>"
      ]
    },
    {
      "cell_type": "markdown",
      "metadata": {
        "id": "Iz3MH7TxBi2C"
      },
      "source": [
        "**Exercícios 5 e 6:**"
      ]
    },
    {
      "cell_type": "code",
      "metadata": {
        "colab": {
          "base_uri": "https://localhost:8080/"
        },
        "id": "o0WKpoqwBU2q",
        "outputId": "f6af830e-dfba-4cf0-babd-35e259db3974"
      },
      "source": [
        "class usuario:\n",
        "  nome = \"\"\n",
        "  sobrenome = \"\"\n",
        "\n",
        "  def ola(self):\n",
        "    return \"Olá\"\n",
        "\n",
        "\n",
        "usuario1 = usuario()\n",
        "usuario1.nome = \"Carlos\"\n",
        "usuario1.sobrenome = \"Eduardo\"\n",
        "print(usuario1.nome, usuario1.sobrenome)\n",
        "\n",
        "ola = usuario1.ola()\n",
        "\n",
        "print(ola + \", \" + usuario1.nome + \" \" + usuario1.sobrenome)"
      ],
      "execution_count": 1,
      "outputs": [
        {
          "output_type": "stream",
          "text": [
            "Olá, Carlos Eduardo\n"
          ],
          "name": "stdout"
        }
      ]
    },
    {
      "cell_type": "code",
      "metadata": {
        "colab": {
          "base_uri": "https://localhost:8080/"
        },
        "id": "RYfARgZTMF3-",
        "outputId": "30e75fc1-942a-4f22-99c9-11de3804335a"
      },
      "source": [
        "class usuario:\n",
        "\n",
        "  nome = \"\"\n",
        "  sobrenome = \"\"\n",
        "\n",
        "  def ola(self):\n",
        "    return \"Olá\"\n",
        "\n",
        "\n",
        "usuario2 = usuario()\n",
        "usuario2.nome = \"Jane\"\n",
        "usuario2.sobrenome = \"Silva\"\n",
        "\n",
        "ola = usuario2.ola()\n",
        "\n",
        "print(ola + \", \" + usuario2.nome + \" \" + usuario2.sobrenome)"
      ],
      "execution_count": 2,
      "outputs": [
        {
          "output_type": "stream",
          "text": [
            "Olá, Jane Silva\n"
          ],
          "name": "stdout"
        }
      ]
    }
  ]
}