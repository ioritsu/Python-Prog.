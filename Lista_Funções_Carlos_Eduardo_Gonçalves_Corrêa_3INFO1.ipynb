{
  "nbformat": 4,
  "nbformat_minor": 0,
  "metadata": {
    "colab": {
      "name": "Lista_Funções - Carlos Eduardo Gonçalves Corrêa - 3INFO1.ipynb",
      "provenance": [],
      "authorship_tag": "ABX9TyNNzQ3cFl4Gvkg/tDc2j7r7",
      "include_colab_link": true
    },
    "kernelspec": {
      "name": "python3",
      "display_name": "Python 3"
    },
    "language_info": {
      "name": "python"
    }
  },
  "cells": [
    {
      "cell_type": "markdown",
      "metadata": {
        "id": "view-in-github",
        "colab_type": "text"
      },
      "source": [
        "<a href=\"https://colab.research.google.com/github/ioritsu/Python-Prog./blob/main/Lista_Fun%C3%A7%C3%B5es_Carlos_Eduardo_Gon%C3%A7alves_Corr%C3%AAa_3INFO1.ipynb\" target=\"_parent\"><img src=\"https://colab.research.google.com/assets/colab-badge.svg\" alt=\"Open In Colab\"/></a>"
      ]
    },
    {
      "cell_type": "markdown",
      "metadata": {
        "id": "E8CvuhRyNeeS"
      },
      "source": [
        "**1. Faça uma função para converter uma temperatura em graus Fahrenheit para\n",
        "Celsius. A temperatura em Fahrenheit é o dado de entrada e a temperatura em\n",
        "Celsius é o dado de saída. Utilize a fórmula C = (F - 32) * 5/9, onde F é a\n",
        "temperatura em Fahrenheit e C é a temperatura em Celsius.**"
      ]
    },
    {
      "cell_type": "code",
      "metadata": {
        "colab": {
          "base_uri": "https://localhost:8080/"
        },
        "id": "8421c_Z0NLzP",
        "outputId": "f92b1de2-e3dd-49eb-8a1a-db0e829d7ed0"
      },
      "source": [
        "#Função Principal\n",
        "def f_fahrenheit(F):\n",
        "  C = (F-32) * 5/9\n",
        "  return C\n",
        "\n",
        "#Teste Função\n",
        "f_fahrenheit(255)"
      ],
      "execution_count": 5,
      "outputs": [
        {
          "output_type": "execute_result",
          "data": {
            "text/plain": [
              "123.88888888888889"
            ]
          },
          "metadata": {
            "tags": []
          },
          "execution_count": 5
        }
      ]
    },
    {
      "cell_type": "markdown",
      "metadata": {
        "id": "3M1sFVTiNgzy"
      },
      "source": [
        "**2. Faça uma função que calcule a hipotenusa. Os catetos são os dados de entrada e\n",
        "a hipotenusa é o dado de saída.**"
      ]
    },
    {
      "cell_type": "code",
      "metadata": {
        "colab": {
          "base_uri": "https://localhost:8080/"
        },
        "id": "ttEeL2pINhZa",
        "outputId": "8ed370c7-9b66-46dd-d98a-7e209d4bc327"
      },
      "source": [
        "def hipotenusa(a, b):\n",
        "  h = ((a**2) + (b**2)) ** 0.5\n",
        "  return h\n",
        "\n",
        "#Teste Função\n",
        "hipotenusa(52, 44)"
      ],
      "execution_count": 7,
      "outputs": [
        {
          "output_type": "execute_result",
          "data": {
            "text/plain": [
              "68.11754546370561"
            ]
          },
          "metadata": {
            "tags": []
          },
          "execution_count": 7
        }
      ]
    },
    {
      "cell_type": "markdown",
      "metadata": {
        "id": "pliQ9ha_Nhna"
      },
      "source": [
        "**3. Escreva um programa para ler as notas das duas avaliações de um aluno no\n",
        "semestre. Faça uma função que receba as duas notas por parâmetro e calcule e\n",
        "escreva a média semestral e a mensagem “PARABÉNS! Você foi aprovado!”\n",
        "somente se o aluno foi aprovado (considere 6.0 a média mínima para aprovação).**"
      ]
    },
    {
      "cell_type": "code",
      "metadata": {
        "colab": {
          "base_uri": "https://localhost:8080/"
        },
        "id": "inaVYusDNi00",
        "outputId": "4f825f76-e689-4c00-de40-db3767be237b"
      },
      "source": [
        "def aprovacao(nota_1, nota_2):\n",
        "  if (nota_1 + nota_2) / 2 >= 6:\n",
        "    print(\"PARABÉNS! VOCÊ FOI APROVADO\")\n",
        "  else:\n",
        "    print(\"ESTUDE MAIS!!\")\n",
        "\n",
        "#Teste Função\n",
        "aprovacao(7, 5)"
      ],
      "execution_count": 10,
      "outputs": [
        {
          "output_type": "stream",
          "text": [
            "PARABÉNS! VOCÊ FOI APROVADO\n"
          ],
          "name": "stdout"
        }
      ]
    },
    {
      "cell_type": "markdown",
      "metadata": {
        "id": "qI3Am81SNjCx"
      },
      "source": [
        "**9. Escreva uma função que receba dois números inteiros x e y. Essa função deve\n",
        "verificar se x é divisível por y. No caso positivo, a função deve retornar 1, caso\n",
        "contrário zero. Escreva também um programa para testar tal função.**"
      ]
    },
    {
      "cell_type": "code",
      "metadata": {
        "colab": {
          "base_uri": "https://localhost:8080/"
        },
        "id": "cbCONqTeNjsS",
        "outputId": "b7a8e214-1018-442d-e89d-028c45ebd5db"
      },
      "source": [
        "def divisivel(x, y):\n",
        "  if (x % y == 0):\n",
        "    return 1\n",
        "  else:\n",
        "    return 0\n",
        "\n",
        "#Teste Função\n",
        "divisivel(10, 10)"
      ],
      "execution_count": 18,
      "outputs": [
        {
          "output_type": "execute_result",
          "data": {
            "text/plain": [
              "1"
            ]
          },
          "metadata": {
            "tags": []
          },
          "execution_count": 18
        }
      ]
    },
    {
      "cell_type": "markdown",
      "metadata": {
        "id": "DU5YICoqNj5S"
      },
      "source": [
        "**10. Criar uma função que calcule e retorne o MAIOR entre dois valores recebidos como\n",
        "parâmetros. Um programa para testar tal função deve ser criado.**"
      ]
    },
    {
      "cell_type": "code",
      "metadata": {
        "colab": {
          "base_uri": "https://localhost:8080/"
        },
        "id": "mpDglPoVNkvr",
        "outputId": "393fcb5a-7853-48b0-fa29-d3dc69a1cdcc"
      },
      "source": [
        "def maior_que(a, b):\n",
        "  if a > b:\n",
        "    return a\n",
        "  else:\n",
        "    return b\n",
        "\n",
        "#Teste Função\n",
        "maior_que(2, 3)\n",
        "#maior_que(7, 4)"
      ],
      "execution_count": 23,
      "outputs": [
        {
          "output_type": "execute_result",
          "data": {
            "text/plain": [
              "3"
            ]
          },
          "metadata": {
            "tags": []
          },
          "execution_count": 23
        }
      ]
    },
    {
      "cell_type": "markdown",
      "metadata": {
        "id": "OvGzS5_TNmGS"
      },
      "source": [
        "**11. Crie uma função que realize a conversão de Polegadas (pol) para Centímetros\n",
        "(cm), onde pol é passado como parâmetro e cm é retornado. Sabe-se que 1\n",
        "polegada tem 2.54 centímetros. Crie também um programa para testar tal função.**"
      ]
    },
    {
      "cell_type": "code",
      "metadata": {
        "colab": {
          "base_uri": "https://localhost:8080/"
        },
        "id": "0X5cFRitNmZr",
        "outputId": "ae48d6e4-2e36-45d5-eadd-dc383fdcb5c4"
      },
      "source": [
        "def pol_cm(pol):\n",
        "  cm = pol * 2.54\n",
        "  return cm\n",
        "\n",
        "#Teste Função\n",
        "pol_cm(55)"
      ],
      "execution_count": 24,
      "outputs": [
        {
          "output_type": "execute_result",
          "data": {
            "text/plain": [
              "139.7"
            ]
          },
          "metadata": {
            "tags": []
          },
          "execution_count": 24
        }
      ]
    }
  ]
}