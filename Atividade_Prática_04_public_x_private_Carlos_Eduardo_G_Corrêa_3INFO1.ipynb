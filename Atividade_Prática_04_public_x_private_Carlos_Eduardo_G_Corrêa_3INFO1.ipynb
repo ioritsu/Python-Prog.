{
  "nbformat": 4,
  "nbformat_minor": 0,
  "metadata": {
    "colab": {
      "name": "Atividade Prática 04 public x private - Carlos Eduardo G. Corrêa - 3INFO1.ipynb",
      "provenance": [],
      "collapsed_sections": [],
      "authorship_tag": "ABX9TyNRU/MjCudaNadUawdM+86C",
      "include_colab_link": true
    },
    "kernelspec": {
      "name": "python3",
      "display_name": "Python 3"
    },
    "language_info": {
      "name": "python"
    }
  },
  "cells": [
    {
      "cell_type": "markdown",
      "metadata": {
        "id": "view-in-github",
        "colab_type": "text"
      },
      "source": [
        "<a href=\"https://colab.research.google.com/github/ioritsu/Python-Prog./blob/main/Atividade_Pr%C3%A1tica_04_public_x_private_Carlos_Eduardo_G_Corr%C3%AAa_3INFO1.ipynb\" target=\"_parent\"><img src=\"https://colab.research.google.com/assets/colab-badge.svg\" alt=\"Open In Colab\"/></a>"
      ]
    },
    {
      "cell_type": "markdown",
      "metadata": {
        "id": "vix4F0QKhVBh"
      },
      "source": [
        "**Código Todo Aqui**\n"
      ]
    },
    {
      "cell_type": "code",
      "metadata": {
        "id": "JdTrAaklCYEI",
        "colab": {
          "base_uri": "https://localhost:8080/"
        },
        "outputId": "7490e2a6-3163-43b5-e557-eb66178408b9"
      },
      "source": [
        "class Usuario:\n",
        "  #2\n",
        "  primeiroName = \"\"\n",
        "  #3\n",
        "  def setNome(self, primeiroNome):\n",
        "    self.primeiroName = primeiroNome\n",
        "    #4\n",
        "  def getNome(self):\n",
        "    return \"Opa, me chamo \" + self.primeiroName\n",
        "#5\n",
        "UsuarioUM = Usuario()\n",
        "UsuarioUM.setNome(\"Joe\")\n",
        "print (UsuarioUM.getNome())"
      ],
      "execution_count": 1,
      "outputs": [
        {
          "output_type": "stream",
          "text": [
            "Opa, me chamo Joe\n"
          ],
          "name": "stdout"
        }
      ]
    }
  ]
}