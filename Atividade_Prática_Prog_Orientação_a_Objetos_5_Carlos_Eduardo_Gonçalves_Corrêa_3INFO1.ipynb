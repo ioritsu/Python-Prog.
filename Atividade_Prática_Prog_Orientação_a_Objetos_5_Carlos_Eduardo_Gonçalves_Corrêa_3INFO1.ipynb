{
  "nbformat": 4,
  "nbformat_minor": 0,
  "metadata": {
    "colab": {
      "name": "Atividade Prática Prog - Orientação a Objetos 5 - Carlos Eduardo Gonçalves Corrêa - 3INFO1.ipynb",
      "provenance": [],
      "authorship_tag": "ABX9TyMm1r5cfSw7BYLcXK4pTkGL",
      "include_colab_link": true
    },
    "kernelspec": {
      "name": "python3",
      "display_name": "Python 3"
    },
    "language_info": {
      "name": "python"
    }
  },
  "cells": [
    {
      "cell_type": "markdown",
      "metadata": {
        "id": "view-in-github",
        "colab_type": "text"
      },
      "source": [
        "<a href=\"https://colab.research.google.com/github/ioritsu/Python-Prog./blob/main/Atividade_Pr%C3%A1tica_Prog_Orienta%C3%A7%C3%A3o_a_Objetos_5_Carlos_Eduardo_Gon%C3%A7alves_Corr%C3%AAa_3INFO1.ipynb\" target=\"_parent\"><img src=\"https://colab.research.google.com/assets/colab-badge.svg\" alt=\"Open In Colab\"/></a>"
      ]
    },
    {
      "cell_type": "code",
      "metadata": {
        "colab": {
          "base_uri": "https://localhost:8080/"
        },
        "id": "4w0YacFeXWbr",
        "outputId": "36da4aa0-b218-4b69-dbd0-3493a16bbb5f"
      },
      "source": [
        "class User():\n",
        "  firstName = \"\"\n",
        "  lastName = \"\"\n",
        "\n",
        "#1ª e 2ª Parte\n",
        "  def __init__(self, firstName, lastName):\n",
        "    self.firstName = firstName\n",
        "    self.lastName = lastName\n",
        "\n",
        "#3ª Parte\n",
        "  def getNomeCompleto(self):\n",
        "    return self.firstName + \" \" + self.lastName\n",
        "\n",
        "#4ª Parte    \n",
        "user1 = User(\"Johnny\", \"Bravo\")\n",
        "\n",
        "#5ª Parte\n",
        "print(user1.getNomeCompleto())"
      ],
      "execution_count": 18,
      "outputs": [
        {
          "output_type": "stream",
          "text": [
            "Johnny Bravo\n"
          ],
          "name": "stdout"
        }
      ]
    }
  ]
}