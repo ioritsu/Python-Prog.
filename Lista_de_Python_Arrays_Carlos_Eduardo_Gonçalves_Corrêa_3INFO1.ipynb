{
  "nbformat": 4,
  "nbformat_minor": 0,
  "metadata": {
    "colab": {
      "name": "Lista de Python Arrays - Carlos Eduardo Gonçalves Corrêa - 3INFO1.ipynb",
      "provenance": [],
      "authorship_tag": "ABX9TyMdUsVrf6K1ybMSfEo4d8zy",
      "include_colab_link": true
    },
    "kernelspec": {
      "name": "python3",
      "display_name": "Python 3"
    },
    "language_info": {
      "name": "python"
    }
  },
  "cells": [
    {
      "cell_type": "markdown",
      "metadata": {
        "id": "view-in-github",
        "colab_type": "text"
      },
      "source": [
        "<a href=\"https://colab.research.google.com/github/ioritsu/Python-Prog./blob/main/Lista_de_Python_Arrays_Carlos_Eduardo_Gon%C3%A7alves_Corr%C3%AAa_3INFO1.ipynb\" target=\"_parent\"><img src=\"https://colab.research.google.com/assets/colab-badge.svg\" alt=\"Open In Colab\"/></a>"
      ]
    },
    {
      "cell_type": "markdown",
      "metadata": {
        "id": "ZLE1m3A9nBJH"
      },
      "source": [
        "**1) Inicializar um vetor de inteiros com números de 0 a 99.**"
      ]
    },
    {
      "cell_type": "code",
      "metadata": {
        "id": "-CzlZaOunH47"
      },
      "source": [
        "vetoooooooooor = [numeros for numeros in range(100)]\n",
        "print(vetoooooooooor)"
      ],
      "execution_count": null,
      "outputs": []
    },
    {
      "cell_type": "markdown",
      "metadata": {
        "id": "3kjGSr3UnIJy"
      },
      "source": [
        "**5) Ler um vetor de 100 elementos numéricos e verificar se existem elementos iguais a 30. Se\n",
        "existirem, escrever as posições em que estão armazenados.**"
      ]
    },
    {
      "cell_type": "code",
      "metadata": {
        "id": "W468qBqznPNi"
      },
      "source": [
        "def numbers(list):\n",
        "  posi = [a for a, b in enumerate(list) if b == 30]\n",
        "  return posi\n",
        "\n",
        "#Teste\n",
        "numeros([30, 1, 2, 3, 4, 30, 21, 30])"
      ],
      "execution_count": null,
      "outputs": []
    },
    {
      "cell_type": "markdown",
      "metadata": {
        "id": "Xd-PRuZ1nPoC"
      },
      "source": [
        "**2) Escreva um algoritmo que leia um conjunto de 10 notas, armazene-as em uma variável\n",
        "composta chamada NOTA e calcule e imprima a sua média.**"
      ]
    },
    {
      "cell_type": "code",
      "metadata": {
        "id": "Wd67wm9bnUmi"
      },
      "source": [
        "notita = []\n",
        "mediana = 0\n",
        "for i in range (10):\n",
        "  notita.append(float(input(\"Qual é a nota do aluno [%i]?: \" % i)))\n",
        "  mediana = sum(notita) / len(notita)\n",
        "print(\"\\n Notas: \\n\", notita, \"\\n Media: \\n\", \"%.2f\" % mediana)"
      ],
      "execution_count": null,
      "outputs": []
    },
    {
      "cell_type": "markdown",
      "metadata": {
        "id": "Y8WeVt6BncfD"
      },
      "source": [
        "**7) Escreva um algoritmo que leia um vetor de 200 valores numéricos reais e os imprima na\n",
        "ordem contrária em que foi lida.**"
      ]
    },
    {
      "cell_type": "code",
      "metadata": {
        "id": "fR_tGzIxndp8"
      },
      "source": [
        "def list_2(vetoooooooooor):\n",
        "  vetoooooooooor.reverse()\n",
        "  return vetoooooooooor\n",
        "\n",
        "#Teste\n",
        "lista([2, 3, 5, 7, 11, 13, 17, 19, 23, 29, 31, 37, 41])"
      ],
      "execution_count": null,
      "outputs": []
    },
    {
      "cell_type": "markdown",
      "metadata": {
        "id": "4m72ov9fnpx9"
      },
      "source": [
        "**6) Fazer um algoritmo que calcule e escreva o somatório dos valores armazenados numa variável\n",
        "composta unidimensional (vetor) A, de 100 elementos numéricos a serem lidos do dispositivo\n",
        "de entrada.**"
      ]
    },
    {
      "cell_type": "code",
      "metadata": {
        "id": "sNrsFgQVnq8V"
      },
      "source": [
        "def list_3(variable):\n",
        "  totalis = sum(variable)\n",
        "  return totalis\n",
        "\n",
        "#Teste\n",
        "lista([2, 3, 5])"
      ],
      "execution_count": null,
      "outputs": []
    }
  ]
}