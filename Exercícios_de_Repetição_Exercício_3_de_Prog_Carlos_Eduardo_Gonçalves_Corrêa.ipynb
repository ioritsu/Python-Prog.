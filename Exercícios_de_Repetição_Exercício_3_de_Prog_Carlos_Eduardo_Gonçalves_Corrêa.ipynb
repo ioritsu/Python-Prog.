{
  "nbformat": 4,
  "nbformat_minor": 0,
  "metadata": {
    "colab": {
      "name": "Exercícios de Repetição. Exercício 3 de Prog. - Carlos Eduardo Gonçalves Corrêa",
      "provenance": [],
      "authorship_tag": "ABX9TyOW5RAFVcnA9U8Wk5PGW9k8",
      "include_colab_link": true
    },
    "kernelspec": {
      "name": "python3",
      "display_name": "Python 3"
    },
    "language_info": {
      "name": "python"
    }
  },
  "cells": [
    {
      "cell_type": "markdown",
      "metadata": {
        "id": "view-in-github",
        "colab_type": "text"
      },
      "source": [
        "<a href=\"https://colab.research.google.com/github/ioritsu/Python-Prog./blob/main/Exerc%C3%ADcios_de_Repeti%C3%A7%C3%A3o_Exerc%C3%ADcio_3_de_Prog_Carlos_Eduardo_Gon%C3%A7alves_Corr%C3%AAa.ipynb\" target=\"_parent\"><img src=\"https://colab.research.google.com/assets/colab-badge.svg\" alt=\"Open In Colab\"/></a>"
      ]
    },
    {
      "cell_type": "markdown",
      "metadata": {
        "id": "ImmfJ7MkHO8T"
      },
      "source": [
        "**2. Faça um algoritmo que leia 15 números inteiros e escreva, para cada número lido, se é\n",
        "par ou ímpar.**"
      ]
    },
    {
      "cell_type": "code",
      "metadata": {
        "id": "VnvA0MSPHTQM"
      },
      "source": [
        "for number in range(15):\n",
        "  number = float(input(\"Coloque aqui seu número: \"))\n",
        "  if number % 2 == 0: \n",
        "    print(\"Número par :D\")\n",
        "  else:\n",
        "    print(\"Número impar ;D\")"
      ],
      "execution_count": null,
      "outputs": []
    },
    {
      "cell_type": "markdown",
      "metadata": {
        "id": "mfnN4UVyHqO3"
      },
      "source": [
        "**5. Faça um algoritmo que leia a altura de 20 pessoas e calcule a média aritmética das\n",
        "alturas.**"
      ]
    },
    {
      "cell_type": "code",
      "metadata": {
        "id": "dv_dcXu3Hwv_"
      },
      "source": [
        "def medias_alturas(lista_alturas):\n",
        "  if len(lista_alturas) < 20:\n",
        "    return \"o tamanho mínimo é de 20 pessoas\"\n",
        "  soma = sum(lista_alturas)\n",
        "  return soma / len(lista_alturas)"
      ],
      "execution_count": null,
      "outputs": []
    },
    {
      "cell_type": "markdown",
      "metadata": {
        "id": "t8pyZX5HH08P"
      },
      "source": [
        "**4. Faça um algoritmo que calcule e escreva a soma dos números pares e a soma dos\n",
        "números ímpares entre 1 e 100.**"
      ]
    },
    {
      "cell_type": "code",
      "metadata": {
        "id": "sZ9ARMjVIQk6"
      },
      "source": [
        "somap = 0 \n",
        "somai = 0\n",
        "for num in range(1, 101):\n",
        "  if num % 2 == 0:\n",
        "    somap += num;\n",
        "  else:\n",
        "    somai += num;\n",
        "  print(\"\\n Soma par: \", somap, \"\\n Soma impar: \", somai)"
      ],
      "execution_count": null,
      "outputs": []
    },
    {
      "cell_type": "markdown",
      "metadata": {
        "id": "DPFmhM4VIY_z"
      },
      "source": [
        "**3. Dado um conjunto de valores inteiros positivos, determinar qual o menor e qual o\n",
        "maior valor do conjunto. Um número com valor “0” (zero) indica o fim dos dados e\n",
        "não deve ser considerado.**"
      ]
    },
    {
      "cell_type": "code",
      "metadata": {
        "id": "uNX3q0bPIYG7"
      },
      "source": [
        "def maior_ou_menor(n1, n2):\n",
        "  if n2 > n1:\n",
        "    n1, n2 = n2, n1\n",
        "  number_minus = 0\n",
        "  number_plus = 0\n",
        "  for x in range(n1,n2):\n",
        "    if x <= 0:\n",
        "      break\n",
        "    if x > number_plus: \n",
        "      number_plus = x\n",
        "    if x < number_minus:\n",
        "      number_minus = x\n",
        "  return number_plus, number_minus"
      ],
      "execution_count": 3,
      "outputs": []
    },
    {
      "cell_type": "markdown",
      "metadata": {
        "id": "rwWibErzIhfQ"
      },
      "source": [
        "**6. Faça um algoritmo que leia n valores inteiros e escreva quantos desses valores são\n",
        "negativos.**"
      ]
    },
    {
      "cell_type": "code",
      "metadata": {
        "id": "BcjgiRXKImGF"
      },
      "source": [
        "def nmr_negativos(neg):\n",
        "  negative = 0\n",
        "  for x in neg:\n",
        "    if x < 0:\n",
        "      negative += 1\n",
        "  return negative"
      ],
      "execution_count": 4,
      "outputs": []
    },
    {
      "cell_type": "markdown",
      "metadata": {
        "id": "ZzcUKkSwIm00"
      },
      "source": [
        "**7. Faça um algoritmo que leia a quantidade de tinta que uma caneta, e enquanto a\n",
        "caneta tiver tinta para escrever, escreva “Enquanto tem tinta a caneta escreve...”.\n",
        "Considere que a cada comando de escrita a caneta gasta 2% da tinta que possui.**"
      ]
    },
    {
      "cell_type": "code",
      "metadata": {
        "id": "EzRgiZofIxme"
      },
      "source": [
        "def lose_ink(tinta):\n",
        "  secs = 0\n",
        "  tinta_agora = tinta\n",
        "  while tinta_agora > 0.5:\n",
        "    secs += 50\n",
        "    tinta_agora = tinta_agora / 2\n",
        "  return tinta, tinta_agora, secs\n",
        "  lose_ink(2)"
      ],
      "execution_count": 7,
      "outputs": []
    },
    {
      "cell_type": "markdown",
      "metadata": {
        "id": "j9lwybN8NyKe"
      },
      "source": [
        "**11. Faça um algoritmo que calcule e escreva a soma da seguinte série de 100 termos: 1+ 2 + 3 + 4 + ... +100**"
      ]
    },
    {
      "cell_type": "code",
      "metadata": {
        "id": "ec9v2M3YN4u9"
      },
      "source": [
        "totalis = 0\n",
        "for number in range(1, 101):\n",
        "  totalis = totalis + number\n",
        "print(totalis)\n"
      ],
      "execution_count": null,
      "outputs": []
    },
    {
      "cell_type": "markdown",
      "metadata": {
        "id": "py9MdjUDpYzz"
      },
      "source": [
        "Alguns eu votei def, seria chato botar a quantidade exata em input, e alguns não porque consegui chegar em outra lógica.\n"
      ]
    }
  ]
}