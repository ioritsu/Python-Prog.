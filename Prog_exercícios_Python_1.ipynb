{
  "nbformat": 4,
  "nbformat_minor": 0,
  "metadata": {
    "colab": {
      "name": "Prog exercícios - Python 1.ipynb",
      "provenance": [],
      "collapsed_sections": [],
      "authorship_tag": "ABX9TyMZ0thbyorNlynnOqeRtOrh",
      "include_colab_link": true
    },
    "kernelspec": {
      "name": "python3",
      "display_name": "Python 3"
    },
    "language_info": {
      "name": "python"
    }
  },
  "cells": [
    {
      "cell_type": "markdown",
      "metadata": {
        "id": "view-in-github",
        "colab_type": "text"
      },
      "source": [
        "<a href=\"https://colab.research.google.com/github/ioritsu/Python-Prog./blob/main/Prog_exerc%C3%ADcios_Python_1.ipynb\" target=\"_parent\"><img src=\"https://colab.research.google.com/assets/colab-badge.svg\" alt=\"Open In Colab\"/></a>"
      ]
    },
    {
      "cell_type": "markdown",
      "metadata": {
        "id": "wY5aOcKbmBVN"
      },
      "source": [
        "**1) Faça um programa que peça dois números inteiros e imprima a soma desses dois números**"
      ]
    },
    {
      "cell_type": "code",
      "metadata": {
        "id": "kVB7yYOqkrOw"
      },
      "source": [
        "number_one = int(input(\"Bote seu número aqui: \"))\n",
        "number_two = int(input(\"Bote seu outro número aqui: \"))\n",
        "resultado = number_one + number_two\n",
        "print(\"Seria esse o seu resultado? \", resultado)"
      ],
      "execution_count": null,
      "outputs": []
    },
    {
      "cell_type": "markdown",
      "metadata": {
        "id": "tPwqgktRn3OF"
      },
      "source": [
        "**2) Escreva um programa que leia um valor em metros e o exiba convertido em milímetros**"
      ]
    },
    {
      "cell_type": "code",
      "metadata": {
        "colab": {
          "base_uri": "https://localhost:8080/"
        },
        "id": "M5rAW_Con6O2",
        "outputId": "e9212297-c83d-4b17-f4a0-98c18d381f3e"
      },
      "source": [
        "metritos = float(input(\"bote seus metros aqui: \"))\n",
        "mili = metritos * 1000\n",
        "print(\"Aqui estão seus metros convertidos para milímetros: \", mili)"
      ],
      "execution_count": 6,
      "outputs": [
        {
          "output_type": "stream",
          "text": [
            "bote seus metros aqui: 1.80\n",
            "Aqui estão seus metros convertidos para milímetros:  1800.0\n"
          ],
          "name": "stdout"
        }
      ]
    },
    {
      "cell_type": "markdown",
      "metadata": {
        "id": "fryx-FeBoenp"
      },
      "source": [
        "**6) Calcule o tempo de uma viagem de carro. Pergunte a distância a percorrer e a velocidade média\n",
        "esperada para a viagem.**\n"
      ]
    },
    {
      "cell_type": "code",
      "metadata": {
        "colab": {
          "base_uri": "https://localhost:8080/"
        },
        "id": "sG0gdMvXozL7",
        "outputId": "facf7b75-70a4-4673-bfe2-3dd15b0492aa"
      },
      "source": [
        "distancia = float(input(\"Por favor insira a distancia de sua viagem em km: \"))\n",
        "velocidade = float(input(\"Insira a velocidade média esperada na viagem em km: \"))\n",
        "tempo = distancia / velocidade\n",
        "print(\"Esse será o tempo que levará sua viagem em horas: \", tempo)"
      ],
      "execution_count": 12,
      "outputs": [
        {
          "output_type": "stream",
          "text": [
            "Por favor insira a distancia de sua viagem em km: 50\n",
            "Insira a velocidade média esperada na viagem em km: 25\n",
            "Esse será o tempo que levará sua viagem em horas:  2.0\n"
          ],
          "name": "stdout"
        }
      ]
    },
    {
      "cell_type": "markdown",
      "metadata": {
        "id": "Ht4R1pmDrRci"
      },
      "source": [
        "**7) Converta uma temperatura digitada em Celsius para Fahrenheit. F = 9*C/5 + 32**"
      ]
    },
    {
      "cell_type": "code",
      "metadata": {
        "colab": {
          "base_uri": "https://localhost:8080/"
        },
        "id": "QvKgEzwErcPq",
        "outputId": "7e29e81b-b340-4bba-8824-5f5b90790f80"
      },
      "source": [
        "celsius = float(input(\"Digite sua temperaura em Celisus aqui: \"))\n",
        "Fahrenheit = 9*(celsius/5) + 32\n",
        "print(\"Aqui está a mesma temperatura em F: \", Fahrenheit)"
      ],
      "execution_count": 14,
      "outputs": [
        {
          "output_type": "stream",
          "text": [
            "Digite sua temperaura em Celisus aqui: 30\n",
            "Aqui está a mesma temperatura em F:  86.0\n"
          ],
          "name": "stdout"
        }
      ]
    },
    {
      "cell_type": "markdown",
      "metadata": {
        "id": "3OwFxyJ-2I4h"
      },
      "source": [
        "**8) Faça agora o contrário, de Fahrenheit para Celsius.**"
      ]
    },
    {
      "cell_type": "code",
      "metadata": {
        "colab": {
          "base_uri": "https://localhost:8080/"
        },
        "id": "4RdtAdCQ2L-X",
        "outputId": "3845ca47-aa05-4330-ff2e-af73ca55fa95"
      },
      "source": [
        "F = float(input(\"Digite sua temperatura em Fahrenheit aqui: \"))\n",
        "C = (F - 32) * 5/9\n",
        "print(\"Aqui está a mesma temperatura em Celsius: \", C)"
      ],
      "execution_count": 15,
      "outputs": [
        {
          "output_type": "stream",
          "text": [
            "Digite sua temperatura em Fahrenheit aqui: 86\n",
            "Aqui está a mesma temperatura em Celsius:  30.0\n"
          ],
          "name": "stdout"
        }
      ]
    },
    {
      "cell_type": "markdown",
      "metadata": {
        "id": "2KSob1QY28Y8"
      },
      "source": [
        "**9) Escreva um programa que pergunte a quantidade de km percorridos por um carro alugado pelo\n",
        "usuário, assim como a quantidade de dias pelos quais o carro foi alugado. Calcule o preço a pagar,\n",
        "sabendo que o carro custa R$ 60,00 por dia e R$ 0,15 por km rodado.**\n"
      ]
    },
    {
      "cell_type": "code",
      "metadata": {
        "colab": {
          "base_uri": "https://localhost:8080/"
        },
        "id": "a0YHEJYg3U7F",
        "outputId": "1629bc76-8cb7-4af1-8157-6f5e0fb23b85"
      },
      "source": [
        "km = float(input(\"Quantos Km você andou com o carro alugado? \"))\n",
        "dias = float(input(\"Por quantos dias você alugou esse carro? \"))\n",
        "p_km = km * 0.15\n",
        "p_dias = dias * 60.00\n",
        "total = p_dias + p_km\n",
        "print(\"Aqui está o que você deve pelo carro alugado: \", total)"
      ],
      "execution_count": 16,
      "outputs": [
        {
          "output_type": "stream",
          "text": [
            "Quantos Km você andou com o carro alugado? 200\n",
            "Por quantos dias você alugou esse carro? 5\n",
            "Aqui está o que você deve pelo carro alugado:  330.0\n"
          ],
          "name": "stdout"
        }
      ]
    }
  ]
}