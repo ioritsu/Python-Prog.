{
  "nbformat": 4,
  "nbformat_minor": 0,
  "metadata": {
    "colab": {
      "name": "Atividade Prática 02 Palavra-chave self - Carlos E. Gonçalves Corrêa - 3INFO1.ipynb",
      "provenance": [],
      "authorship_tag": "ABX9TyMpmKuh1Yb6NHfvU2reywjO",
      "include_colab_link": true
    },
    "kernelspec": {
      "name": "python3",
      "display_name": "Python 3"
    },
    "language_info": {
      "name": "python"
    }
  },
  "cells": [
    {
      "cell_type": "markdown",
      "metadata": {
        "id": "view-in-github",
        "colab_type": "text"
      },
      "source": [
        "<a href=\"https://colab.research.google.com/github/ioritsu/Python-Prog./blob/main/Atividade_Pr%C3%A1tica_02_Palavra_chave_self_Carlos_E_Gon%C3%A7alves_Corr%C3%AAa_3INFO1.ipynb\" target=\"_parent\"><img src=\"https://colab.research.google.com/assets/colab-badge.svg\" alt=\"Open In Colab\"/></a>"
      ]
    },
    {
      "cell_type": "markdown",
      "metadata": {
        "id": "0ewblLSoCkkB"
      },
      "source": [
        "**Exercício de Codificação**"
      ]
    },
    {
      "cell_type": "code",
      "metadata": {
        "colab": {
          "base_uri": "https://localhost:8080/"
        },
        "id": "7bdCu6cwB-Si",
        "outputId": "2e754113-862d-49a0-acae-9718912f03c7"
      },
      "source": [
        "#Parte 1\n",
        "class Usuario():\n",
        "\n",
        "  primeiroNome = \"\"\n",
        "  ultimoNome = \"\"\n",
        "\n",
        "  def hello(self):\n",
        "    return \"Olá, \" + self.primeiroNome\n",
        "\n",
        "#Parte 2 e 3\n",
        "class Usuario():\n",
        "  primeiroNome = \"\"\n",
        "  ultimoNome = \"\"\n",
        "\n",
        "  def hello(self):\n",
        "    return \"Olá, \" + self.primeiroNome\n",
        "\n",
        "usuarioPrimario = Usuario()\n",
        "\n",
        "usuarioPrimario.primeiroNome = \"Jonnie\"\n",
        "usuarioPrimario.ultimoNome = \"Bravo\"\n",
        "\n",
        "print(usuarioPrimario.hello())"
      ],
      "execution_count": 9,
      "outputs": [
        {
          "output_type": "stream",
          "text": [
            "Olá, Jonnie\n"
          ],
          "name": "stdout"
        }
      ]
    }
  ]
}