{
  "nbformat": 4,
  "nbformat_minor": 0,
  "metadata": {
    "colab": {
      "name": "POO 6 - Carlos Eduardo Gonçalves Corrêa - 3INFO1.ipynb",
      "provenance": [],
      "authorship_tag": "ABX9TyNKYJHubn69ml9u9ECN9R8k",
      "include_colab_link": true
    },
    "kernelspec": {
      "name": "python3",
      "display_name": "Python 3"
    },
    "language_info": {
      "name": "python"
    }
  },
  "cells": [
    {
      "cell_type": "markdown",
      "metadata": {
        "id": "view-in-github",
        "colab_type": "text"
      },
      "source": [
        "<a href=\"https://colab.research.google.com/github/ioritsu/Python-Prog./blob/main/POO_6_Carlos_Eduardo_Gon%C3%A7alves_Corr%C3%AAa_3INFO1.ipynb\" target=\"_parent\"><img src=\"https://colab.research.google.com/assets/colab-badge.svg\" alt=\"Open In Colab\"/></a>"
      ]
    },
    {
      "cell_type": "code",
      "metadata": {
        "colab": {
          "base_uri": "https://localhost:8080/"
        },
        "id": "moEn-gOzZImQ",
        "outputId": "578aec5d-a650-42da-b178-72773950b098"
      },
      "source": [
        "#1\n",
        "class Usuario():\n",
        "  #2\n",
        "  _nomeUsuario = \"\"\n",
        "  #3\n",
        "  def setNomeUsuario(self, nomeUsuario):\n",
        "    self._nomeUsuario = nomeUsuario\n",
        "  #10\n",
        "  def getNomeUsuario(self):\n",
        "    return self._nomeUsuario\n",
        "#4  \n",
        "class Admin(Usuario):\n",
        "  #5\n",
        "  def escreveNome(self):\n",
        "    return \"Admin \"\n",
        "  #6\n",
        "  def digaOla(self):\n",
        "    return \"Olá Admin, \" + self.getNomeUsuario()\n",
        "#7\n",
        "admin1 = Admin()\n",
        "admin1.setNomeUsuario(\"Baltazar\")\n",
        "print(admin1.digaOla())"
      ],
      "execution_count": 1,
      "outputs": [
        {
          "output_type": "stream",
          "text": [
            "Olá Admin, Baltazar\n"
          ],
          "name": "stdout"
        }
      ]
    }
  ]
}