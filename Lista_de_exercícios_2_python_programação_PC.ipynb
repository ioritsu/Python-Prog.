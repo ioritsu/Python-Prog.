{
  "nbformat": 4,
  "nbformat_minor": 0,
  "metadata": {
    "colab": {
      "name": "Lista de exercícios 2 - python - programação PC.ipynb",
      "provenance": [],
      "authorship_tag": "ABX9TyP9NyU0MadLcETL4qSmYirR",
      "include_colab_link": true
    },
    "kernelspec": {
      "name": "python3",
      "display_name": "Python 3"
    },
    "language_info": {
      "name": "python"
    }
  },
  "cells": [
    {
      "cell_type": "markdown",
      "metadata": {
        "id": "view-in-github",
        "colab_type": "text"
      },
      "source": [
        "<a href=\"https://colab.research.google.com/github/ioritsu/Python-Prog./blob/main/Lista_de_exerc%C3%ADcios_2_python_programa%C3%A7%C3%A3o_PC.ipynb\" target=\"_parent\"><img src=\"https://colab.research.google.com/assets/colab-badge.svg\" alt=\"Open In Colab\"/></a>"
      ]
    },
    {
      "cell_type": "markdown",
      "metadata": {
        "id": "ff0m4sO4oDTj"
      },
      "source": [
        "**1 - Faça um Programa que peça os três lados de um triângulo. O programa deverá informar se os valores podem ser\n",
        "um triângulo. Indique, caso os lados formem um triângulo, se o mesmo é: equilátero, isósceles ou escaleno.**"
      ]
    },
    {
      "cell_type": "code",
      "metadata": {
        "colab": {
          "base_uri": "https://localhost:8080/"
        },
        "id": "qvfH6VZpVDM6",
        "outputId": "adb7ce23-de0d-43e4-94f0-2929ed50b51f"
      },
      "source": [
        "lado1 = float(input(\"Lado 1: \"))\n",
        "lado2 = float(input(\"Lado 2: \"))\n",
        "lado3 = float(input(\"Lado 3: \"))\n",
        "\n",
        "if (lado1 + lado2 < lado3) or (lado1 + lado3 < lado2) or (lado2 + lado3 < lado1):\n",
        "  print(\"Não é um triangulo.\")\n",
        "elif (lado1 == lado2) and (lado1 == lado3) :\n",
        "  print(\"Seu triangulo é equilátero.\")\n",
        "elif (lado1 == lado2) or (lado1 == lado3) or (lado2 == lado3):\n",
        "  print(\"Seu triangulo é isóscele.\")\n",
        "else:\n",
        "  print(\"Seu triangulo é escaleno.\")"
      ],
      "execution_count": 2,
      "outputs": [
        {
          "output_type": "stream",
          "text": [
            "Lado 1: 2\n",
            "Lado 2: 3\n",
            "Lado 3: 5\n",
            "Seu triangulo é escaleno.\n"
          ],
          "name": "stdout"
        }
      ]
    },
    {
      "cell_type": "markdown",
      "metadata": {
        "id": "T66hb1A2p26v"
      },
      "source": [
        "**2 - Determine se um ano é bissexto. Verifique no Google como fazer isso...**"
      ]
    },
    {
      "cell_type": "code",
      "metadata": {
        "colab": {
          "base_uri": "https://localhost:8080/"
        },
        "id": "lVX2WDnpqGY3",
        "outputId": "42398729-fd07-44bd-a386-85171f814b3f"
      },
      "source": [
        "year = int(input(\"Bote aqui o ano de sua preferência \"))\n",
        "\n",
        "if year % 4 != 0:\n",
        "  print (\"não é um ano bissexto (tem 365 dias).\");\n",
        "elif year % 100 != 0:\n",
        "  print(\"é bissexto (tem 366 dias).\");\n",
        "elif year % 400 != 0:\n",
        "  print (\"não é um ano bissexto (tem 365 dias).\");\n",
        "else:\n",
        "  print(\"é bissexto (tem 366 dias).\");"
      ],
      "execution_count": 4,
      "outputs": [
        {
          "output_type": "stream",
          "text": [
            "Coloque aqui seu ano: 2016\n",
            "O ano é bissexto (tem 366 dias).\n"
          ],
          "name": "stdout"
        }
      ]
    },
    {
      "cell_type": "markdown",
      "metadata": {
        "id": "dvlzbWHCr8w0"
      },
      "source": [
        "**4 - Faça um Programa que leia três números e mostre o maior deles.**"
      ]
    },
    {
      "cell_type": "code",
      "metadata": {
        "id": "YVSP7eC2sC5J"
      },
      "source": [
        "num1 = float(input(\"Primeiro Número: \"))\n",
        "num2 = float(input(\"Segundo Número: \"))\n",
        "num3 = float(input(\"Terceiro Número: \"))\n",
        "\n",
        "if num1 > num2 and num1 > num3:\n",
        "  print(\"O primeiro número é o maior: \", num1);\n",
        "elif num2 > num3:\n",
        "  print(\"O segundo número é o maior: \", num2);\n",
        "else: \n",
        "  print(\"O terceiro número é o maior: \", num3)"
      ],
      "execution_count": null,
      "outputs": []
    },
    {
      "cell_type": "markdown",
      "metadata": {
        "id": "fTb78rjmqkeZ"
      },
      "source": [
        "**3 - João Papo-de-Pescador, homem de bem, comprou um microcomputador para controlar o rendimento diário de seu trabalho. Toda vez que ele traz um peso de peixes maior que o estabelecido pelo regulamento de pesca do estado de São Paulo (50 quilos) deve pagar uma multa de R$ 4,00 por quilo excedente. João precisa que você faça um programa que leia a variável peso (peso de peixes) e verifique se há excesso. Se houver, gravar na variável excesso e na variável multa o valor da multa que João deverá pagar. Caso contrário mostrar tais variáveis com o conteúdo ZERO.**"
      ]
    },
    {
      "cell_type": "code",
      "metadata": {
        "colab": {
          "base_uri": "https://localhost:8080/"
        },
        "id": "eU815pOtqqFa",
        "outputId": "aafa25b3-ba13-42f3-9b38-98aeac3993fc"
      },
      "source": [
        "pesito = float(input(\"João, quantos kilos de peixe você tem?: \"))\n",
        "\n",
        "if pesito > 50:\n",
        "  print(\"Muito Peso, multa de: \", (pesito - 50)*4, \"R$\");\n",
        "else:\n",
        "  print(\"Peso na média, pode passar\")"
      ],
      "execution_count": 7,
      "outputs": [
        {
          "output_type": "stream",
          "text": [
            "João, quantos kilos de peixe você tem?: 75\n",
            "Muito Peso, multa de:  100.0 R$\n"
          ],
          "name": "stdout"
        }
      ]
    },
    {
      "cell_type": "markdown",
      "metadata": {
        "id": "7bCJtTBfs_IY"
      },
      "source": [
        " **5 - Faça um Programa que leia três números e mostre o maior e o menor deles.**"
      ]
    },
    {
      "cell_type": "code",
      "metadata": {
        "colab": {
          "base_uri": "https://localhost:8080/"
        },
        "id": "x1B2IgHitGzo",
        "outputId": "505edbe4-6e26-4324-bbe3-044159df2875"
      },
      "source": [
        "num1 = float(input(\"Primeiro Número: \"))\n",
        "num2 = float(input(\"Segundo Número: \"))\n",
        "num3 = float(input(\"Terceiro Número: \"))\n",
        "\n",
        "if num1 > num2 and num1 > num3:\n",
        "  print(\"O primeiro número é o maior: \", num1);\n",
        "elif num2 > num3:\n",
        "  print(\"O segundo número é o maior: \", num2);\n",
        "else: \n",
        "  print(\"O terceiro número é o maior: \", num3);\n",
        "\n",
        "if num1 < num2 and num1 < num3:\n",
        "  print(\"O primeiro número é o menor: \", num1);\n",
        "elif num2 < num3:\n",
        "  print(\"O segundo número é o menor: \", num2);\n",
        "else: \n",
        "  print(\"O terceiro número é o menor: \", num3);"
      ],
      "execution_count": 8,
      "outputs": [
        {
          "output_type": "stream",
          "text": [
            "Primeiro Número: 5.74\n",
            "Segundo Número: 5.89\n",
            "Terceiro Número: 0.5\n",
            "O segundo número é o maior:  5.89\n",
            "O terceiro número é o menor:  0.5\n"
          ],
          "name": "stdout"
        }
      ]
    }
  ]
}