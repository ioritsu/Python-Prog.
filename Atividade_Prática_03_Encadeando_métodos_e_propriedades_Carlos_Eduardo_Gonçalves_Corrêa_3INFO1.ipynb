{
  "nbformat": 4,
  "nbformat_minor": 0,
  "metadata": {
    "colab": {
      "name": "Atividade Prática 03  Encadeando métodos e propriedades - Carlos Eduardo Gonçalves Corrêa - 3INFO1.ipynb",
      "provenance": [],
      "authorship_tag": "ABX9TyO5d4sypjTE3cIy54YGDoBQ",
      "include_colab_link": true
    },
    "kernelspec": {
      "name": "python3",
      "display_name": "Python 3"
    },
    "language_info": {
      "name": "python"
    }
  },
  "cells": [
    {
      "cell_type": "markdown",
      "metadata": {
        "id": "view-in-github",
        "colab_type": "text"
      },
      "source": [
        "<a href=\"https://colab.research.google.com/github/ioritsu/Python-Prog./blob/main/Atividade_Pr%C3%A1tica_03_Encadeando_m%C3%A9todos_e_propriedades_Carlos_Eduardo_Gon%C3%A7alves_Corr%C3%AAa_3INFO1.ipynb\" target=\"_parent\"><img src=\"https://colab.research.google.com/assets/colab-badge.svg\" alt=\"Open In Colab\"/></a>"
      ]
    },
    {
      "cell_type": "markdown",
      "metadata": {
        "id": "i2aO-l2L52up"
      },
      "source": [
        "**Código**\n",
        "\n",
        "\n",
        "\n",
        "\n",
        "\n"
      ]
    },
    {
      "cell_type": "code",
      "metadata": {
        "colab": {
          "base_uri": "https://localhost:8080/"
        },
        "id": "tgQGTI215wIx",
        "outputId": "fc2b8236-2c60-487d-9514-84e1658b7566"
      },
      "source": [
        "class Usuario:\n",
        "  primeiroNome = \" \"\n",
        "#4\n",
        "  def hello(self):\n",
        "    print(\"Olá, \" , self.primeiroNome)\n",
        "    return self\n",
        "#2 e 5\n",
        "  def registrar(self):\n",
        "    print(\">> Registrado\")\n",
        "    return self\n",
        "#3 e 5\n",
        "  def mail(self):\n",
        "    print(\">> E-mail enviado\")\n",
        "    return self\n",
        "#6\n",
        "usuarioUm = Usuario()\n",
        "usuarioUm.primeiroNome = \"Jane\"\n",
        "\n",
        "primeiroNome = usuarioUm.hello().registrar().mail()\n",
        "print(usuarioUm)"
      ],
      "execution_count": 2,
      "outputs": [
        {
          "output_type": "stream",
          "text": [
            "Olá,  Jane\n",
            ">> Registrado\n",
            ">> E-mail enviado\n",
            "<__main__.Usuario object at 0x7f2712573e90>\n"
          ],
          "name": "stdout"
        }
      ]
    }
  ]
}